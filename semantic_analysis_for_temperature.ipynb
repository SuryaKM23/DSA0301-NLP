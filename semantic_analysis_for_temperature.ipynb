{
 "cells": [
  {
   "cell_type": "code",
   "execution_count": 1,
   "id": "24e17561",
   "metadata": {},
   "outputs": [],
   "source": [
    "#temperature program"
   ]
  },
  {
   "cell_type": "code",
   "execution_count": 4,
   "id": "487980d4",
   "metadata": {},
   "outputs": [
    {
     "name": "stdout",
     "output_type": "stream",
     "text": [
      "The temperature in the room is 25 degree celsius\n",
      "The room temperature is 25 degree celsius\n",
      "The canonical form of 'temperature' is 'Temperature'\n",
      "77.0\n"
     ]
    }
   ],
   "source": [
    "print(\"The temperature in the room is 25 degree celsius\")\n",
    "temp_cel= 25\n",
    "print(f\"The room temperature is {temp_cel} degree celsius\")\n",
    "word = \"temperature\"\n",
    "can_form = word.capitalize()\n",
    "print(f\"The canonical form of '{word}' is '{can_form}'\")\n",
    "temp_in_cel = 25\n",
    "temp_in_fah = (temp_in_cel * 9/5 + 32)\n",
    "print(temp_in_fah)"
   ]
  },
  {
   "cell_type": "code",
   "execution_count": 6,
   "id": "0ea26055",
   "metadata": {},
   "outputs": [
    {
     "name": "stdout",
     "output_type": "stream",
     "text": [
      "The temperature of 25 degree celsius:worm\n"
     ]
    }
   ],
   "source": [
    "def analyze_temp(temp):\n",
    "    if temp<0:\n",
    "        return \"it is freezy\"\n",
    "    elif 0<=temp<20:\n",
    "        return \"it is cool\"\n",
    "    else:\n",
    "        return \"worm\"\n",
    "analy = analyze_temp(temp_in_cel)\n",
    "print(f\"The temperature of {temp_in_cel} degree celsius:{analy}\")"
   ]
  },
  {
   "cell_type": "code",
   "execution_count": null,
   "id": "52614f4e",
   "metadata": {},
   "outputs": [],
   "source": []
  }
 ],
 "metadata": {
  "kernelspec": {
   "display_name": "Python 3 (ipykernel)",
   "language": "python",
   "name": "python3"
  },
  "language_info": {
   "codemirror_mode": {
    "name": "ipython",
    "version": 3
   },
   "file_extension": ".py",
   "mimetype": "text/x-python",
   "name": "python",
   "nbconvert_exporter": "python",
   "pygments_lexer": "ipython3",
   "version": "3.9.12"
  }
 },
 "nbformat": 4,
 "nbformat_minor": 5
}
